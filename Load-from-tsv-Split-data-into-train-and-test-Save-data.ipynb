{
 "cells": [
  {
   "cell_type": "markdown",
   "metadata": {},
   "source": [
    "## Load a CSV file"
   ]
  },
  {
   "cell_type": "code",
   "execution_count": 98,
   "metadata": {
    "collapsed": false,
    "scrolled": true
   },
   "outputs": [],
   "source": [
    "import pandas as pd\n",
    "df = pd.read_csv('C:/Data/GermanMood/2016_07_04_all_cleaned.tsv', delimiter='\\t')\n",
    "#print df.head()"
   ]
  },
  {
   "cell_type": "markdown",
   "metadata": {},
   "source": [
    "## Find unique labels"
   ]
  },
  {
   "cell_type": "code",
   "execution_count": 99,
   "metadata": {
    "collapsed": false
   },
   "outputs": [],
   "source": [
    "uniqueLabels = df.Label.unique()\n",
    "#print uniqueLabels"
   ]
  },
  {
   "cell_type": "markdown",
   "metadata": {},
   "source": [
    "## Split data in 70%-30%"
   ]
  },
  {
   "cell_type": "code",
   "execution_count": 101,
   "metadata": {
    "collapsed": false
   },
   "outputs": [
    {
     "name": "stdout",
     "output_type": "stream",
     "text": [
      "42297\n",
      "60424\n",
      "18127\n"
     ]
    }
   ],
   "source": [
    "indexTrain = []\n",
    "\n",
    "for uLabel in uniqueLabels:\n",
    "    temp = df[df.Label == uLabel].sample(frac=0.7, random_state=888).index.tolist()\n",
    "    indexTrain.extend(temp)\n",
    "\n",
    "dfTrain = df.loc[indexTrain]\n",
    "\n",
    "indexDf = range(0,len(df.index))\n",
    "\n",
    "indexTest = [i for i in indexDf if i not in indexTrain]\n",
    "\n",
    "dfTest = df.loc[indexTest]\n",
    "    \n",
    "print len(dfTrain.index)\n",
    "print len(df.index)\n",
    "print len(dfTest.index)"
   ]
  },
  {
   "cell_type": "markdown",
   "metadata": {},
   "source": [
    "## Save training data and test data"
   ]
  },
  {
   "cell_type": "code",
   "execution_count": 103,
   "metadata": {
    "collapsed": false
   },
   "outputs": [],
   "source": [
    "#fileNameTrain = \"C:/Data/GermanMood/2016_07_04_all_cleaned_train.tsv\"\n",
    "#dfTrain.to_csv(fileNameTrain, sep='\\t', cols=['Label', 'Text'], index=False)\n",
    "\n",
    "#fileNameTest = \"C:/Data/GermanMood/2016_07_04_all_cleaned_test.tsv\"\n",
    "#dfTest.to_csv(fileNameTest, sep='\\t', cols=['Label', 'Text'], index=False)"
   ]
  }
 ],
 "metadata": {
  "kernelspec": {
   "display_name": "Python 2",
   "language": "python",
   "name": "python2"
  },
  "language_info": {
   "codemirror_mode": {
    "name": "ipython",
    "version": 2
   },
   "file_extension": ".py",
   "mimetype": "text/x-python",
   "name": "python",
   "nbconvert_exporter": "python",
   "pygments_lexer": "ipython2",
   "version": "2.7.11"
  }
 },
 "nbformat": 4,
 "nbformat_minor": 0
}
