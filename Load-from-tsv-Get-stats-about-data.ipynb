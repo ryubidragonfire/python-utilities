{
 "cells": [
  {
   "cell_type": "markdown",
   "metadata": {},
   "source": [
    "# Load a CSV file"
   ]
  },
  {
   "cell_type": "code",
   "execution_count": 2,
   "metadata": {
    "collapsed": false,
    "scrolled": true
   },
   "outputs": [
    {
     "name": "stdout",
     "output_type": "stream",
     "text": [
      "            Label                                               Text\n",
      "0  attractiveness  Angebot des Tages mit 50 Rabatt Stricktop von ...\n",
      "1  attractiveness   Neue Asics aus m FootLocker am Ku Damm in Berlin\n",
      "2  attractiveness  Angebot des Tages mit 50 Rabatt Taillenhose vo...\n",
      "3  attractiveness  Etui Kleider aus feinen Boucl oder Jacquard St...\n",
      "4  attractiveness                      Mmm L wenbr u Brauhaus Berlin\n"
     ]
    }
   ],
   "source": [
    "import pandas as pd\n",
    "df = pd.read_csv('C:/Data/GermanMood/2016_07_04_all_cleaned.tsv', delimiter='\\t')\n",
    "#print df.head()"
   ]
  },
  {
   "cell_type": "code",
   "execution_count": 6,
   "metadata": {
    "collapsed": false
   },
   "outputs": [
    {
     "name": "stdout",
     "output_type": "stream",
     "text": [
      "['attractiveness' 'curiosity' 'disgust' 'fear' 'germanangst' 'happiness'\n",
      " 'indulgence' 'neutral' 'sadness' 'surprise']\n"
     ]
    }
   ],
   "source": [
    "uniqueLabels = df.Label.unique()\n",
    "print uniqueLabels"
   ]
  },
  {
   "cell_type": "code",
   "execution_count": 7,
   "metadata": {
    "collapsed": false
   },
   "outputs": [
    {
     "name": "stdout",
     "output_type": "stream",
     "text": [
      "attractiveness \t765\n",
      "curiosity \t4179\n",
      "disgust \t1162\n",
      "fear \t395\n",
      "germanangst \t897\n",
      "happiness \t14082\n",
      "indulgence \t6485\n",
      "neutral \t27916\n",
      "sadness \t3207\n",
      "surprise \t1336\n"
     ]
    }
   ],
   "source": [
    "for uLabels in uniqueLabels:\n",
    "    count = df.Label.str.contains(uLabels).sum()\n",
    "    print uLabels, '\\t', count"
   ]
  }
 ],
 "metadata": {
  "kernelspec": {
   "display_name": "Python 2",
   "language": "python",
   "name": "python2"
  },
  "language_info": {
   "codemirror_mode": {
    "name": "ipython",
    "version": 2
   },
   "file_extension": ".py",
   "mimetype": "text/x-python",
   "name": "python",
   "nbconvert_exporter": "python",
   "pygments_lexer": "ipython2",
   "version": "2.7.11"
  }
 },
 "nbformat": 4,
 "nbformat_minor": 0
}
