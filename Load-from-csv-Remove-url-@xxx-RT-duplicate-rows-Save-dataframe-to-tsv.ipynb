{
 "cells": [
  {
   "cell_type": "markdown",
   "metadata": {},
   "source": [
    "# Load a CSV file"
   ]
  },
  {
   "cell_type": "code",
   "execution_count": 21,
   "metadata": {
    "collapsed": false,
    "scrolled": true
   },
   "outputs": [],
   "source": [
    "import pandas as pd\n",
    "df = pd.read_csv('C:/Data/GermanMood/2016_07_04_all.csv')\n",
    "#df"
   ]
  },
  {
   "cell_type": "markdown",
   "metadata": {},
   "source": [
    "# Remove `URL`, `RT`, `@xxx`, `Punctuations` from a string"
   ]
  },
  {
   "cell_type": "code",
   "execution_count": 25,
   "metadata": {
    "collapsed": false,
    "scrolled": true
   },
   "outputs": [
    {
     "name": "stdout",
     "output_type": "stream",
     "text": [
      "RT @PXLWLF: Neue Asics aus'm FootLocker am Ku'Damm in Berlin! ?? http://t.co/RKdOrDkCOz\n",
      "---------Remove URL, Puncutation, @xxx, RT--------------\n",
      "Neue Asics aus m FootLocker am Ku Damm in Berlin\n",
      "---------Remove URL--------------\n",
      "RT @PXLWLF: Neue Asics aus'm FootLocker am Ku'Damm in Berlin! ??\n",
      "---------Remove \"RT\"--------------\n",
      "@PXLWLF: Neue Asics aus'm FootLocker am Ku'Damm in Berlin! ?? http://t.co/RKdOrDkCOz\n",
      "---------Remove \"@xxx\"--------------\n",
      "RT Neue Asics aus'm FootLocker am Ku'Damm in Berlin! ?? http://t.co/RKdOrDkCOz\n"
     ]
    }
   ],
   "source": [
    "import re\n",
    "#text = \"RT @PXLWLF: Neue Asics aus'm FootLocker am Ku'Damm in Berlin! ?? http://t.co/RKdOrDkCOz\"\n",
    "text = df.Text[1]\n",
    "print text\n",
    "\n",
    "print '---------Remove URL, Puncutation, @xxx, RT--------------'\n",
    "t1 = ' '.join(re.sub(\"(@[A-Za-z0-9]+)|([^0-9A-Za-z \\t])|(\\w+:\\/\\/\\S+)|RT\",\" \",text).split())\n",
    "print t1\n",
    "\n",
    "print '---------Remove URL--------------'\n",
    "t2 = ' '.join(re.sub(\"(\\w+:\\/\\/\\S+)\",\" \",text).split())\n",
    "print t2\n",
    "\n",
    "print '---------Remove \"RT\"--------------'\n",
    "t3 = ' '.join(re.sub(\"RT\",\" \",text).split())\n",
    "print t3\n",
    "\n",
    "print '---------Remove \"@xxx\"--------------'\n",
    "t4 = ' '.join(re.sub(\"(@[A-Za-z0-9]+:)\",\" \",text).split())\n",
    "print t4\n"
   ]
  },
  {
   "cell_type": "code",
   "execution_count": 22,
   "metadata": {
    "collapsed": false,
    "scrolled": true
   },
   "outputs": [],
   "source": [
    "import re\n",
    "\n",
    "for index, row in df.iterrows():\n",
    "    string = row['Text']\n",
    "    newString = ' '.join(re.sub(\"(@[A-Za-z0-9]+)|([^0-9A-Za-z \\t])|(\\w+:\\/\\/\\S+)|RT\",\" \",string).split())\n",
    "    df.Text[index] = newString\n",
    "        \n",
    "# to print out\n",
    "#for index, row in df.iterrows():\n",
    "#    print df.Text[index]\n",
    "#    if index > 3:\n",
    "#        break"
   ]
  },
  {
   "cell_type": "markdown",
   "metadata": {},
   "source": [
    "# Remove duplicate rows"
   ]
  },
  {
   "cell_type": "code",
   "execution_count": 27,
   "metadata": {
    "collapsed": false
   },
   "outputs": [
    {
     "name": "stdout",
     "output_type": "stream",
     "text": [
      "180374\n",
      "120848\n"
     ]
    }
   ],
   "source": [
    "dfUnique = df.drop_duplicates()\n",
    "print df.size\n",
    "print dfUnique.size"
   ]
  },
  {
   "cell_type": "markdown",
   "metadata": {},
   "source": [
    "# Write `dataframe` to CSV"
   ]
  },
  {
   "cell_type": "code",
   "execution_count": 30,
   "metadata": {
    "collapsed": false
   },
   "outputs": [],
   "source": [
    "#fileName = \"C:/Data/GermanMood/2016_07_04_all_cleaned.tsv\"\n",
    "#dfUnique.to_csv(fileName, sep='\\t', cols=['Label', 'Text'], index=False)\n",
    "\n",
    "#fileName = \"C:/Data/GermanMood/2016_07_04_all_cleaned_withOriginalIndex.tsv\"\n",
    "#dfUnique.to_csv(fileName, sep='\\t', cols=['Label', 'Text'])"
   ]
  }
 ],
 "metadata": {
  "kernelspec": {
   "display_name": "Python 2",
   "language": "python",
   "name": "python2"
  },
  "language_info": {
   "codemirror_mode": {
    "name": "ipython",
    "version": 2
   },
   "file_extension": ".py",
   "mimetype": "text/x-python",
   "name": "python",
   "nbconvert_exporter": "python",
   "pygments_lexer": "ipython2",
   "version": "2.7.11"
  }
 },
 "nbformat": 4,
 "nbformat_minor": 0
}
